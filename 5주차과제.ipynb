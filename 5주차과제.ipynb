{
  "nbformat": 4,
  "nbformat_minor": 0,
  "metadata": {
    "colab": {
      "provenance": [],
      "authorship_tag": "ABX9TyMSK0fT/axOy2YEsH+VdTTJ",
      "include_colab_link": true
    },
    "kernelspec": {
      "name": "python3",
      "display_name": "Python 3"
    },
    "language_info": {
      "name": "python"
    }
  },
  "cells": [
    {
      "cell_type": "markdown",
      "metadata": {
        "id": "view-in-github",
        "colab_type": "text"
      },
      "source": [
        "<a href=\"https://colab.research.google.com/github/storyrago/2025-2-BigData/blob/main/5%EC%A3%BC%EC%B0%A8%EA%B3%BC%EC%A0%9C.ipynb\" target=\"_parent\"><img src=\"https://colab.research.google.com/assets/colab-badge.svg\" alt=\"Open In Colab\"/></a>"
      ]
    },
    {
      "cell_type": "code",
      "execution_count": 1,
      "metadata": {
        "id": "7Rby525_IQNQ"
      },
      "outputs": [],
      "source": [
        "import pandas as pd\n",
        "import numpy as np"
      ]
    },
    {
      "cell_type": "code",
      "source": [
        "df1 = pd.read_csv(\"CARD_SUBWAY_MONTH_202504.csv\",encoding=\"utf-8\");\n",
        "df2 = pd.read_csv(\"CARD_SUBWAY_MONTH_202505.csv\",encoding=\"utf-8\");\n",
        "df3 = pd.read_csv(\"CARD_SUBWAY_MONTH_202506.csv\",encoding=\"utf-8\");\n",
        "df4 = pd.read_csv(\"CARD_SUBWAY_MONTH_202507.csv\",encoding=\"utf-8\");\n",
        "df5 = pd.read_csv(\"CARD_SUBWAY_MONTH_202508.csv\",encoding=\"utf-8\");\n",
        "dfList =[df1,df2,df3,df4,df5]\n",
        "\n",
        "for i in range(0,5):\n",
        "  sum = 0\n",
        "  a = dfList[i].values.tolist()\n",
        "  for j in range(len(a)):\n",
        "      if a[j][1] == \"한성대입구(삼선교)\":\n",
        "          sum += a[j][2]\n",
        "          sum += a[j][3]\n",
        "  print(\"{}월 한성대 입구역 승하차 수 : {}\".format(i+4,sum))"
      ],
      "metadata": {
        "colab": {
          "base_uri": "https://localhost:8080/"
        },
        "id": "vIqugz04Iybe",
        "outputId": "36a8dbff-1fb3-431f-85f2-1eca4c24bd1d"
      },
      "execution_count": 4,
      "outputs": [
        {
          "output_type": "stream",
          "name": "stdout",
          "text": [
            "4월 한성대 입구역 승하차 수 : 960263\n",
            "5월 한성대 입구역 승하차 수 : 952977\n",
            "6월 한성대 입구역 승하차 수 : 842115\n",
            "7월 한성대 입구역 승하차 수 : 801754\n",
            "8월 한성대 입구역 승하차 수 : 722899\n"
          ]
        }
      ]
    },
    {
      "cell_type": "code",
      "source": [
        "print(\"4~5월은 승하차 수가 월등하게 높은 반면, 6월부터 점차 수치가 낮아지고, 7월과 8월의 승하차 수 차이가 급격하게 증가한 것을 볼 수 있습니다.\")\n",
        "print(\"이를 통해, 6월부터 많은 학생들이 종강한다는 사실을 추측할 수 있고, 7~8월의 승하차 수의 차이가 급격하게 증가하는 것을 통해 계절학기를\")\n",
        "print(\"수강하는 학생들도 종강했다는 것을 추측할 수 있습니다.\")"
      ],
      "metadata": {
        "id": "p3Iw_7RxJcA7",
        "colab": {
          "base_uri": "https://localhost:8080/"
        },
        "outputId": "f11839fa-3fd1-47e1-ab09-53012ff2a0e3"
      },
      "execution_count": 7,
      "outputs": [
        {
          "output_type": "stream",
          "name": "stdout",
          "text": [
            "4~5월은 승하차 수가 월등하게 높은 반면, 6월부터 점차 수치가 낮아지고, 7월과 8월의 승하차 수 차이가 급격하게 증가한 것을 볼 수 있습니다.\n",
            "이를 통해, 6월부터 많은 학생들이 종강한다는 사실을 추측할 수 있고, 7~8월의 승하차 수의 차이가 급격하게 증가하는 것을 통해 계절학기를\n",
            "수강하는 학생들도 종강했다는 것을 추측할 수 있습니다.\n"
          ]
        }
      ]
    },
    {
      "cell_type": "code",
      "source": [],
      "metadata": {
        "id": "5mbZRnq32Ccb"
      },
      "execution_count": null,
      "outputs": []
    }
  ]
}